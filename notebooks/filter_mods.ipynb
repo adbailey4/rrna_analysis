{
 "cells": [
  {
   "cell_type": "code",
   "execution_count": 85,
   "metadata": {},
   "outputs": [],
   "source": [
    "import pandas as pd\n",
    "import os\n",
    "mod_file = \"/Users/andrewbailey/CLionProjects/personal/projects/ares_rRNA/mod_files/misc/mod_file.csv\"\n",
    "exp_bases = {'2’-O-Methyladenosine' : \"A\",\n",
    "            '2’-O-Methylcytidine' : \"C\",\n",
    "            '2’-O-Methylguanosine' : \"G\",\n",
    "            '2’-O-Methyluridine' : \"T\",\n",
    "            'C5-Methylcytidine' : \"C\",\n",
    "            'N1-Methyladenosine' : \"A\",\n",
    "            'N1-methyl-N3-aminocarboxypropyl_pseudouridine' : \"T\",\n",
    "            'N3-Methyluridine' : \"T\",\n",
    "            'N4-Acetylcytidine' : \"C\",\n",
    "            'N6-N6-Dimethyladenosine' : \"A\",\n",
    "            'N7-Methylguanosine' : \"G\",\n",
    "            'Pseudouridine' : \"T\", \n",
    "            \"2’-O-Methyluridine_pseudouridine\": \"T\",\n",
    "            \"2'-O-methylated_pseudouridine_2’-O-Methyluridine\" : \"T\"}\n",
    "\n",
    "mod_bases = {'2’-O-Methyladenosine' : \"a\",\n",
    "        '2’-O-Methylcytidine' : \"b\",\n",
    "        '2’-O-Methylguanosine' : \"c\",\n",
    "        '2’-O-Methyluridine' : \"d\",\n",
    "        'C5-Methylcytidine' : \"e\",\n",
    "        'N1-Methyladenosine' : \"f\",\n",
    "        'N1-methyl-N3-aminocarboxypropyl_pseudouridine' : \"g\",\n",
    "        'N3-Methyluridine' : \"h\",\n",
    "        'N4-Acetylcytidine' : \"i\",\n",
    "        'N6-N6-Dimethyladenosine' : \"j\",\n",
    "        'N7-Methylguanosine' : \"k\",\n",
    "        'Pseudouridine' : \"l\",\n",
    "         \"2'-O-methylated_pseudouridine\" : \"m\"}\n",
    "\n",
    "\n",
    "mod_variants = {'2’-O-Methyladenosine' : \"Aa\",\n",
    "        '2’-O-Methylcytidine' : \"Cb\",\n",
    "        '2’-O-Methylguanosine' : \"Gc\",\n",
    "        '2’-O-Methyluridine' : \"Td\",\n",
    "        'C5-Methylcytidine' : \"Ce\",\n",
    "        'N1-Methyladenosine' : \"Af\",\n",
    "        'N1-methyl-N3-aminocarboxypropyl_pseudouridine' : \"Tg\",\n",
    "        'N3-Methyluridine' : \"Th\",\n",
    "        'N4-Acetylcytidine' : \"Ci\",\n",
    "        'N6-N6-Dimethyladenosine' : \"Aj\",\n",
    "        'N7-Methylguanosine' : \"Gk\",\n",
    "        'Pseudouridine' : \"Tl\", \n",
    "        \"2'-O-methylated_pseudouridine_2’-O-Methyluridine\": \"Tmd\"}\n",
    "\n",
    "\n"
   ]
  },
  {
   "cell_type": "code",
   "execution_count": 88,
   "metadata": {},
   "outputs": [],
   "source": [
    "mod_data = pd.read_csv(mod_file)\n",
    "mod_data['pos'] = mod_data['pos'] -1\n"
   ]
  },
  {
   "cell_type": "code",
   "execution_count": 89,
   "metadata": {},
   "outputs": [],
   "source": [
    "mod_data['variants']= mod_data['mod'].map(mod_variants)\n",
    "mod_data['base_char']= mod_data['mod'].map(exp_bases)\n",
    "mod_data['find']= mod_data['mod'].map(exp_bases)\n",
    "mod_data['mod_char']= mod_data['mod'].map(mod_bases)"
   ]
  },
  {
   "cell_type": "code",
   "execution_count": 90,
   "metadata": {},
   "outputs": [],
   "source": [
    "mod_data = mod_data.dropna()\n"
   ]
  },
  {
   "cell_type": "code",
   "execution_count": 91,
   "metadata": {},
   "outputs": [],
   "source": [
    "def write_filtered_positions_file(mod_data, path, percent_threshold, ignore_mods, geq=True):\n",
    "    data = []\n",
    "    if geq:\n",
    "        new_data = mod_data[mod_data[\"percent\"] >= percent_threshold]\n",
    "    else:\n",
    "        new_data = mod_data[mod_data[\"percent\"] <= percent_threshold]\n",
    "\n",
    "    mod_char_data = new_data[~new_data['mod_char'].isin(ignore_mods)][[\"contig\", \"pos\", \"strand\", \"find\", \"mod_char\"]]\n",
    "    mod_char_data = mod_char_data.rename(columns={\"mod_char\": \"a\"})\n",
    "    data.append(mod_char_data)\n",
    "\n",
    "    base_char_data = new_data[new_data['mod_char'].isin(ignore_mods)][[\"contig\", \"pos\", \"strand\", \"find\", \"base_char\"]]\n",
    "    base_char_data = base_char_data.rename(columns={\"base_char\": \"a\"})\n",
    "    data.append(base_char_data)\n",
    "    write_data = pd.concat(data)\n",
    "    write_data.to_csv(path, sep=\"\\t\", header=False, index=False)\n",
    "    "
   ]
  },
  {
   "cell_type": "code",
   "execution_count": 92,
   "metadata": {},
   "outputs": [],
   "source": [
    "HOME = \"/Users/andrewbailey/CLionProjects/personal/projects/ares_rRNA/mod_files/misc_position_files\"\n",
    "# Write high prob (>=95) position files \n",
    "write_filtered_positions_file(mod_data, os.path.join(HOME, \"high_prob_95_all_mods.positions\"), \n",
    "                              95, [], geq=True)   \n",
    "write_filtered_positions_file(mod_data, os.path.join(HOME, \"high_prob_95_no_pseduoU.positions\"), \n",
    "                              95, [\"l\"], geq=True)  \n",
    "write_filtered_positions_file(mod_data, os.path.join(HOME, \"high_prob_95_no_2methyl.positions\"), \n",
    "                              95, [\"a\", \"b\", \"c\", \"d\"], geq=True)   \n",
    "write_filtered_positions_file(mod_data, os.path.join(HOME, \"high_prob_95_canonical.positions\"), \n",
    "                              95, \n",
    "                              [\"a\", \"b\", \"c\", \"d\", \"e\", \"f\", \"g\", \"h\", \"i\", \"j\", \"k\", \"l\", \"m\", \"md\"], \n",
    "                              geq=True)   \n",
    "# Write low prob (<=80) position files \n",
    "write_filtered_positions_file(mod_data, os.path.join(HOME, \"low_prob_80_all_mods.positions\"), \n",
    "                              80, [], geq=False)   \n",
    "write_filtered_positions_file(mod_data, os.path.join(HOME, \"low_prob_80_no_pseduoU.positions\"), \n",
    "                              80, [\"l\"], geq=False)  \n",
    "write_filtered_positions_file(mod_data, os.path.join(HOME, \"low_prob_80_no_2methyl.positions\"), \n",
    "                              80, [\"a\", \"b\", \"c\", \"d\"], geq=False)   \n",
    "write_filtered_positions_file(mod_data, os.path.join(HOME, \"low_prob_80_canonical.positions\"), \n",
    "                              80, \n",
    "                              [\"a\", \"b\", \"c\", \"d\", \"e\", \"f\", \"g\", \"h\", \"i\", \"j\", \"k\", \"l\", \"m\", \"md\"], \n",
    "                              geq=False)   \n"
   ]
  },
  {
   "cell_type": "code",
   "execution_count": null,
   "metadata": {},
   "outputs": [],
   "source": []
  }
 ],
 "metadata": {
  "kernelspec": {
   "display_name": "signalalign",
   "language": "python",
   "name": "signalalign"
  },
  "language_info": {
   "codemirror_mode": {
    "name": "ipython",
    "version": 3
   },
   "file_extension": ".py",
   "mimetype": "text/x-python",
   "name": "python",
   "nbconvert_exporter": "python",
   "pygments_lexer": "ipython3",
   "version": "3.6.7"
  }
 },
 "nbformat": 4,
 "nbformat_minor": 2
}
