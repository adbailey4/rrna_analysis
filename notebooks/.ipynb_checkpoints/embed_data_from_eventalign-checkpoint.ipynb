{
 "cells": [
  {
   "cell_type": "code",
   "execution_count": 33,
   "metadata": {},
   "outputs": [],
   "source": [
    "import os\n",
    "import pandas as pd\n",
    "import numpy as np\n",
    "from signalalign.fast5 import Fast5\n"
   ]
  },
  {
   "cell_type": "code",
   "execution_count": 34,
   "metadata": {},
   "outputs": [],
   "source": [
    "nanopolish_data_dir = \"/Users/andrewbailey/CLionProjects/personal/projects/ares_rRNA/small_local_sample/nanopolish\"\n",
    "nanopolish_readdb_dir = \"/Users/andrewbailey/CLionProjects/personal/projects/ares_rRNA/small_local_sample/fastq_nanopolish\"\n",
    "\n",
    "key_names = [\"cbfgal\",\"cbfglu\",\"ivt\",\"nopgal\",\"nopglu\"]\n",
    "nanopolish_data_paths = [os.path.join(nanopolish_data_dir, name)+\"_eventalign.tsv\" for name in key_names]\n",
    "readdb_paths = [os.path.join(nanopolish_readdb_dir, name)+\".fastq.index.readdb\" for name in key_names]"
   ]
  },
  {
   "cell_type": "code",
   "execution_count": 35,
   "metadata": {},
   "outputs": [],
   "source": [
    "def get_fast5_paths(read_db_path):\n",
    "    fast5_files = []\n",
    "    with open(read_db_path, 'r') as fofn:\n",
    "        for line in fofn:\n",
    "            fast5_files.append(line.split('\\t')[1][:-1])\n",
    "    return fast5_files\n"
   ]
  },
  {
   "cell_type": "code",
   "execution_count": 36,
   "metadata": {},
   "outputs": [
    {
     "ename": "TypeError",
     "evalue": "parser_f() got an unexpected keyword argument 'index'",
     "output_type": "error",
     "traceback": [
      "\u001b[0;31m---------------------------------------------------------------------------\u001b[0m",
      "\u001b[0;31mTypeError\u001b[0m                                 Traceback (most recent call last)",
      "\u001b[0;32m<ipython-input-36-0b4116d95908>\u001b[0m in \u001b[0;36m<module>\u001b[0;34m\u001b[0m\n\u001b[0;32m----> 1\u001b[0;31m \u001b[0mnanopolish_data\u001b[0m \u001b[0;34m=\u001b[0m \u001b[0;34m[\u001b[0m\u001b[0mpd\u001b[0m\u001b[0;34m.\u001b[0m\u001b[0mread_csv\u001b[0m\u001b[0;34m(\u001b[0m\u001b[0mx\u001b[0m\u001b[0;34m,\u001b[0m \u001b[0msep\u001b[0m\u001b[0;34m=\u001b[0m\u001b[0;34m\"\\t\"\u001b[0m\u001b[0;34m,\u001b[0m \u001b[0mindex\u001b[0m\u001b[0;34m=\u001b[0m\u001b[0;32mFalse\u001b[0m\u001b[0;34m)\u001b[0m \u001b[0;32mfor\u001b[0m \u001b[0mx\u001b[0m \u001b[0;32min\u001b[0m \u001b[0mnanopolish_data_paths\u001b[0m\u001b[0;34m]\u001b[0m\u001b[0;34m\u001b[0m\u001b[0;34m\u001b[0m\u001b[0m\n\u001b[0m\u001b[1;32m      2\u001b[0m \u001b[0mnanopolish_f5_paths\u001b[0m \u001b[0;34m=\u001b[0m \u001b[0;34m[\u001b[0m\u001b[0mget_fast5_paths\u001b[0m\u001b[0;34m(\u001b[0m\u001b[0mx\u001b[0m\u001b[0;34m)\u001b[0m \u001b[0;32mfor\u001b[0m \u001b[0mx\u001b[0m \u001b[0;32min\u001b[0m \u001b[0mreaddb_paths\u001b[0m\u001b[0;34m]\u001b[0m\u001b[0;34m\u001b[0m\u001b[0;34m\u001b[0m\u001b[0m\n",
      "\u001b[0;32m<ipython-input-36-0b4116d95908>\u001b[0m in \u001b[0;36m<listcomp>\u001b[0;34m(.0)\u001b[0m\n\u001b[0;32m----> 1\u001b[0;31m \u001b[0mnanopolish_data\u001b[0m \u001b[0;34m=\u001b[0m \u001b[0;34m[\u001b[0m\u001b[0mpd\u001b[0m\u001b[0;34m.\u001b[0m\u001b[0mread_csv\u001b[0m\u001b[0;34m(\u001b[0m\u001b[0mx\u001b[0m\u001b[0;34m,\u001b[0m \u001b[0msep\u001b[0m\u001b[0;34m=\u001b[0m\u001b[0;34m\"\\t\"\u001b[0m\u001b[0;34m,\u001b[0m \u001b[0mindex\u001b[0m\u001b[0;34m=\u001b[0m\u001b[0;32mFalse\u001b[0m\u001b[0;34m)\u001b[0m \u001b[0;32mfor\u001b[0m \u001b[0mx\u001b[0m \u001b[0;32min\u001b[0m \u001b[0mnanopolish_data_paths\u001b[0m\u001b[0;34m]\u001b[0m\u001b[0;34m\u001b[0m\u001b[0;34m\u001b[0m\u001b[0m\n\u001b[0m\u001b[1;32m      2\u001b[0m \u001b[0mnanopolish_f5_paths\u001b[0m \u001b[0;34m=\u001b[0m \u001b[0;34m[\u001b[0m\u001b[0mget_fast5_paths\u001b[0m\u001b[0;34m(\u001b[0m\u001b[0mx\u001b[0m\u001b[0;34m)\u001b[0m \u001b[0;32mfor\u001b[0m \u001b[0mx\u001b[0m \u001b[0;32min\u001b[0m \u001b[0mreaddb_paths\u001b[0m\u001b[0;34m]\u001b[0m\u001b[0;34m\u001b[0m\u001b[0;34m\u001b[0m\u001b[0m\n",
      "\u001b[0;31mTypeError\u001b[0m: parser_f() got an unexpected keyword argument 'index'"
     ]
    }
   ],
   "source": [
    "nanopolish_data = [pd.read_csv(x, sep=\"\\t\", index=False) for x in nanopolish_data_paths]\n",
    "nanopolish_f5_paths = [get_fast5_paths(x) for x in readdb_paths]\n"
   ]
  },
  {
   "cell_type": "code",
   "execution_count": 46,
   "metadata": {},
   "outputs": [],
   "source": [
    "dtype = [('contig', 'S10'), \n",
    "        ('position', int),\n",
    "        ('reference_kmer', 'S6'), \n",
    "        ('read_index', int),\n",
    "        ('strand', 'S1'), \n",
    "        ('event_index', int),\n",
    "        ('event_level_mean', float), \n",
    "        ('event_stdv', float),\n",
    "        ('event_length', float), \n",
    "        ('model_kmer', 'S6'),\n",
    "        ('model_mean', float), \n",
    "        ('model_stdv', float),\n",
    "        ('standardized_level', float),\n",
    "        ('start_idx', int),\n",
    "        ('end_idx', int)]\n",
    "dtype_dict = {'contig': 'S10', \n",
    "                'position': int,\n",
    "                'reference_kmer': 'S6',\n",
    "                'read_index': int,\n",
    "                'strand': 'S1', \n",
    "                'event_index': int,\n",
    "                'event_level_mean': float,\n",
    "                'event_stdv': float,\n",
    "                'event_length': float,\n",
    "                'model_kmer': 'S6',\n",
    "                'model_mean': float,\n",
    "                'model_stdv': float,\n",
    "                'standardized_level': float,\n",
    "                'start_idx': int,\n",
    "                'end_idx': int}\n",
    "\n",
    "for data, f5_paths in zip(nanopolish_data, nanopolish_f5_paths):\n",
    "    for index, y in data.groupby([\"read_index\"]):\n",
    "        template = None\n",
    "        complement = None\n",
    "        for strand, data  in y.groupby(\"strand\"):\n",
    "            if strand == \"t\":\n",
    "                template = data.to_records(index=False, column_dtypes=dtype_dict)\n",
    "            else:\n",
    "                complement = data.to_records(index=False, column_dtypes=dtype_dict)\n",
    "        fast5_file = f5_paths[index]\n",
    "        handle = Fast5(fast5_file, read='r+')\n",
    "        handle.set_eventalign_table(template=template, complement=complement, meta=None, overwrite=True)\n",
    "\n",
    "        "
   ]
  },
  {
   "cell_type": "code",
   "execution_count": null,
   "metadata": {},
   "outputs": [],
   "source": []
  }
 ],
 "metadata": {
  "kernelspec": {
   "display_name": "signalalign",
   "language": "python",
   "name": "signalalign"
  },
  "language_info": {
   "codemirror_mode": {
    "name": "ipython",
    "version": 3
   },
   "file_extension": ".py",
   "mimetype": "text/x-python",
   "name": "python",
   "nbconvert_exporter": "python",
   "pygments_lexer": "ipython3",
   "version": "3.6.7"
  }
 },
 "nbformat": 4,
 "nbformat_minor": 2
}
