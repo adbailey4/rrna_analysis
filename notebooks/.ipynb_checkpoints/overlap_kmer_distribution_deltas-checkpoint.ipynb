{
 "cells": [
  {
   "cell_type": "code",
   "execution_count": 27,
   "metadata": {},
   "outputs": [],
   "source": [
    "from signalalign.hiddenMarkovModel import HmmModel\n",
    "from signalalign.visualization.plot_em_model_distributions import get_covered_bases\n",
    "from scipy.stats import norm, invgauss, entropy\n",
    "from scipy.spatial.distance import euclidean\n",
    "import numpy as np\n",
    "import pandas as pd\n"
   ]
  },
  {
   "cell_type": "code",
   "execution_count": 22,
   "metadata": {},
   "outputs": [],
   "source": [
    "model_path = \"/Users/andrewbailey/CLionProjects/personal/projects/ares_rRNA/sa_training/supervised/more_data_ivt_native/template_hmm9.model\"\n",
    "model = HmmModel(model_path, rna=True)"
   ]
  },
  {
   "cell_type": "code",
   "execution_count": 29,
   "metadata": {},
   "outputs": [],
   "source": [
    "per_pos_acc = \"/Users/andrewbailey/CLionProjects/personal/projects/ares_rRNA/sa_training/supervised/test_plotting/per_position/per_position_data.csv\"\n",
    "acc_df = pd.read_csv(per_pos_acc)\n",
    "reference = \"/Users/andrewbailey/CLionProjects/personal/projects/ares_rRNA/reference/yeast_25S_18S.fa\"\n",
    "positions = \"/Users/andrewbailey/CLionProjects/personal/projects/ares_rRNA/mod_files/yeast_18S_25S_mods.positions\"\n"
   ]
  },
  {
   "cell_type": "code",
   "execution_count": 65,
   "metadata": {},
   "outputs": [],
   "source": [
    "def get_kmer_kl_divergence(model, kmer1, kmer2):\n",
    "    \"\"\"Get Kullback–Leibler divergence between the HDP and ONT models for a specific kmer\"\"\"\n",
    "    normal_mean1, normal_sd1 = model.get_event_mean_gaussian_parameters(kmer1)\n",
    "    normal_mean2, normal_sd2 = model.get_event_mean_gaussian_parameters(kmer2)\n",
    "\n",
    "    ont_normal_dist1 = norm.pdf(model.linspace, normal_mean1, normal_sd1)\n",
    "    ont_normal_dist2 = norm.pdf(model.linspace, normal_mean2, normal_sd2)\n",
    "\n",
    "    kl_divergence = entropy(pk=ont_normal_dist2, qk=ont_normal_dist1, base=2)\n",
    "\n",
    "    return kl_divergence\n",
    "\n",
    "def get_kmer_mean_delta(model, kmer1, kmer2):\n",
    "    \"\"\"Get Kullback–Leibler divergence between the HDP and ONT models for a specific kmer\"\"\"\n",
    "    normal_mean1, normal_sd1 = model.get_event_mean_gaussian_parameters(kmer1)\n",
    "    normal_mean2, normal_sd2 = model.get_event_mean_gaussian_parameters(kmer2)\n",
    "\n",
    "    return np.abs(normal_mean1 - normal_mean2)\n"
   ]
  },
  {
   "cell_type": "code",
   "execution_count": 66,
   "metadata": {},
   "outputs": [
    {
     "data": {
      "text/plain": [
       "7.016145999999992"
      ]
     },
     "execution_count": 66,
     "metadata": {},
     "output_type": "execute_result"
    }
   ],
   "source": [
    "get_kmer_kl_divergence(model, \"AAAAA\", \"CAGGA\")\n",
    "get_kmer_mean_delta(model, \"AAAAA\", \"CAGGA\")"
   ]
  },
  {
   "cell_type": "code",
   "execution_count": 32,
   "metadata": {},
   "outputs": [],
   "source": [
    "covered_bases = get_covered_bases(reference, positions, kmer_length=5, rna=True)"
   ]
  },
  {
   "cell_type": "code",
   "execution_count": 46,
   "metadata": {},
   "outputs": [
    {
     "data": {
      "text/html": [
       "<div>\n",
       "<style scoped>\n",
       "    .dataframe tbody tr th:only-of-type {\n",
       "        vertical-align: middle;\n",
       "    }\n",
       "\n",
       "    .dataframe tbody tr th {\n",
       "        vertical-align: top;\n",
       "    }\n",
       "\n",
       "    .dataframe thead th {\n",
       "        text-align: right;\n",
       "    }\n",
       "</style>\n",
       "<table border=\"1\" class=\"dataframe\">\n",
       "  <thead>\n",
       "    <tr style=\"text-align: right;\">\n",
       "      <th></th>\n",
       "      <th>contig</th>\n",
       "      <th>reference_index</th>\n",
       "      <th>strand</th>\n",
       "      <th>variants</th>\n",
       "      <th>aucroc</th>\n",
       "      <th>avg_precision</th>\n",
       "      <th>brier_score</th>\n",
       "    </tr>\n",
       "  </thead>\n",
       "  <tbody>\n",
       "    <tr>\n",
       "      <th>0</th>\n",
       "      <td>RDN18-1</td>\n",
       "      <td>105</td>\n",
       "      <td>+</td>\n",
       "      <td>Tl</td>\n",
       "      <td>0.9371</td>\n",
       "      <td>0.9382</td>\n",
       "      <td>0.1012</td>\n",
       "    </tr>\n",
       "  </tbody>\n",
       "</table>\n",
       "</div>"
      ],
      "text/plain": [
       "    contig  reference_index strand variants  aucroc  avg_precision  \\\n",
       "0  RDN18-1              105      +       Tl  0.9371         0.9382   \n",
       "\n",
       "   brier_score  \n",
       "0       0.1012  "
      ]
     },
     "execution_count": 46,
     "metadata": {},
     "output_type": "execute_result"
    }
   ],
   "source": [
    "acc_df.head()\n",
    "acc_df[(acc_df['contig'] == \"RDN18-1\") \n",
    "       & (acc_df['reference_index'] == 105) \n",
    "       & (acc_df[\"strand\"] == \"+\")]"
   ]
  },
  {
   "cell_type": "code",
   "execution_count": 69,
   "metadata": {},
   "outputs": [
    {
     "name": "stdout",
     "output_type": "stream",
     "text": [
      "[0.9371, 0.767, 0.9703, 0.9484, 0.9198, 0.8482, 0.7875, 0.9647, 0.8538, 0.8679, 0.7917, 0.8404, 0.8761, 0.9572] [13.42962459139487, 6.222535060215634, 6.300787006998036, 8.921253332159154, 5.3267059730218165, 39.61947151934055, 6.39162060378429, 13.230885654937367, 3.13167961608265, 11.985034670920896, 14.679042506039423, 5.675483475063928, 6.392046544227966, 27.724395762317712]\n"
     ]
    }
   ],
   "source": [
    "delta_values = []\n",
    "acc_values = []\n",
    "for x in covered_bases:\n",
    "    contig = x[0]\n",
    "    ref_index = x[1]\n",
    "    strand = \"+\"\n",
    "    kmer_sets = x[3]\n",
    "    if len(ref_index) == 1:\n",
    "        ref_index = ref_index[0]\n",
    "        acc_data = acc_df[(acc_df['contig'] == contig) \n",
    "               & (acc_df['reference_index'] == ref_index) \n",
    "               & (acc_df[\"strand\"] == strand)]\n",
    "        if len(acc_data) > 0:\n",
    "#             print(acc_data[[\"aucroc\", \"avg_precision\", \"brier_score\"]])\n",
    "            kl_divs = []\n",
    "            mean_deltas = []\n",
    "            for x in kmer_sets:\n",
    "                sorted_kmers = sorted(x)\n",
    "                kl_divs.append(get_kmer_kl_divergence(model, sorted_kmers[0], sorted_kmers[1]))\n",
    "                mean_deltas.append(get_kmer_mean_delta(model, sorted_kmers[0], sorted_kmers[1]))\n",
    "#             print(mean_deltas)\n",
    "            acc_values.append(acc_data[\"aucroc\"].iloc[0])\n",
    "            delta_values.append(max(mean_deltas))\n",
    "            \n",
    "print(acc_values, delta_values)\n"
   ]
  },
  {
   "cell_type": "markdown",
   "metadata": {},
   "source": []
  }
 ],
 "metadata": {
  "kernelspec": {
   "display_name": "signalalign",
   "language": "python",
   "name": "signalalign"
  },
  "language_info": {
   "codemirror_mode": {
    "name": "ipython",
    "version": 3
   },
   "file_extension": ".py",
   "mimetype": "text/x-python",
   "name": "python",
   "nbconvert_exporter": "python",
   "pygments_lexer": "ipython3",
   "version": "3.6.7"
  }
 },
 "nbformat": 4,
 "nbformat_minor": 2
}
