{
 "cells": [
  {
   "cell_type": "code",
   "execution_count": 1,
   "metadata": {},
   "outputs": [
    {
     "name": "stdout",
     "output_type": "stream",
     "text": [
      "Enter MFA code for arn:aws:iam::652235167018:mfa/andbaile@ucsc.edu: ········\n"
     ]
    }
   ],
   "source": [
    "import matplotlib\n",
    "matplotlib.use('SVG')\n",
    "\n",
    "import os\n",
    "import numpy as np\n",
    "from py3helpers.aws import AwsS3\n",
    "from rrna_analysis.plot_experiment_table import plot_acc_heatmap_for_experiment\n",
    "from rrna_analysis.multiple_model_accuracy import plot_accuracy_vs_delta_and_accuracy_over_time, preprocess_accuracy_csv\n",
    "from rrna_analysis.kmer_pos_mapping import KmerPosMapping\n",
    "import pandas as pd\n",
    "\n",
    "import matplotlib.pyplot as plt\n",
    "# from IPython.display import set_matplotlib_formats\n",
    "\n",
    "mods_csv = \"/Users/andrewbailey/CLionProjects/rrna_analysis/reference/mod_files/mod_file.csv\"\n",
    "reference = \"/Users/andrewbailey/CLionProjects/rrna_analysis/reference/yeast_25S_18S.fa\"\n",
    "positions = \"/Users/andrewbailey/CLionProjects/rrna_analysis/reference/mod_files/yeast_18S_25S_variants.positions\"\n",
    "kpm = KmerPosMapping(reference, positions, mods_csv)\n",
    "client = AwsS3()"
   ]
  },
  {
   "cell_type": "code",
   "execution_count": 2,
   "metadata": {},
   "outputs": [],
   "source": [
    "pd.set_option('display.max_rows', None)\n",
    "pd.set_option('display.max_columns', None)\n"
   ]
  },
  {
   "cell_type": "code",
   "execution_count": 3,
   "metadata": {},
   "outputs": [],
   "source": [
    "model_n = 30\n",
    "# key=\"accuracy\"\n",
    "# key=\"recall\"\n",
    "# key=\"specificity\"\n",
    "# key=\"precision\"\n",
    "# key=\"negative_predictive_value\"\n",
    "# key=\"recall\"\n",
    "# key=\"f1_score\"\n",
    "# key=\"brier_score\"\n",
    "# key=\"auroc\"\n",
    "\n",
    "max_percent=100\n",
    "min_percent=0\n",
    "min_delta=0\n",
    "max_delta=np.inf\n",
    "\n",
    "_alt_can=\"/Users/andrewbailey/CLionProjects/rrna_analysis/notebooks/rrna_data/rrna_kube_testing/alt_canonical/gaussian/train_500_test_500_prob_0.5_em_iterations_30_gaussian_true_FREQ_THRESHOLD_0_USE_IVT_TRAINING_true_unsupervised_false_all_kmers_false\"\n",
    "_small_5mer=\"/Users/andrewbailey/CLionProjects/rrna_analysis/notebooks/rrna_data/rrna_kube_testing/small_5mer/test/train_500_test_500_prob_0.5_em_iterations_30_gaussian_true_FREQ_THRESHOLD_0_USE_IVT_TRAINING_true_unsupervised_false_all_kmers_false_small_model_5mer\"\n",
    "_small_6mer=\"/Users/andrewbailey/CLionProjects/rrna_analysis/notebooks/rrna_data/rrna_kube_testing/small_6mer/test/train_500_test_500_prob_0.5_em_iterations_30_gaussian_true_FREQ_THRESHOLD_0_USE_IVT_TRAINING_true_unsupervised_false_all_kmers_false_small_model_6mer\"\n",
    "# 0.5, 0.6, 0.7, 0.9 prob freq \n",
    "_small_09 = \"/Users/andrewbailey/CLionProjects/rrna_analysis/notebooks/rrna_data/rrna_kube_testing/small_5mer/test/train_500_test_500_prob_0.9_em_iterations_30_gaussian_true_FREQ_THRESHOLD_0_USE_IVT_TRAINING_true_unsupervised_false_all_kmers_false_small_model_5mer\"\n",
    "_small_08 = \"/Users/andrewbailey/CLionProjects/rrna_analysis/notebooks/rrna_data/rrna_kube_testing/small_5mer/test/train_500_test_500_prob_0.8_em_iterations_30_gaussian_true_FREQ_THRESHOLD_0_USE_IVT_TRAINING_true_unsupervised_false_all_kmers_false_small_model_5mer\"\n",
    "_small_07 = \"/Users/andrewbailey/CLionProjects/rrna_analysis/notebooks/rrna_data/rrna_kube_testing/small_5mer/test/train_500_test_500_prob_0.7_em_iterations_30_gaussian_true_FREQ_THRESHOLD_0_USE_IVT_TRAINING_true_unsupervised_false_all_kmers_false_small_model_5mer\"\n",
    "_small_06 = \"/Users/andrewbailey/CLionProjects/rrna_analysis/notebooks/rrna_data/rrna_kube_testing/small_5mer/test/train_500_test_500_prob_0.6_em_iterations_30_gaussian_true_FREQ_THRESHOLD_0_USE_IVT_TRAINING_true_unsupervised_false_all_kmers_false_small_model_5mer\"\n",
    "_small_05 = \"/Users/andrewbailey/CLionProjects/rrna_analysis/notebooks/rrna_data/rrna_kube_testing/small_5mer/test/train_500_test_500_prob_0.5_em_iterations_30_gaussian_true_FREQ_THRESHOLD_0_USE_IVT_TRAINING_true_unsupervised_false_all_kmers_false_small_model_5mer\"\n",
    "\n",
    "_small_6mer = \"/Users/andrewbailey/CLionProjects/rrna_analysis/notebooks/rrna_data/rrna_kube_testing/small_6mer/test/train_500_test_500_prob_0.5_em_iterations_30_gaussian_true_FREQ_THRESHOLD_0_USE_IVT_TRAINING_true_unsupervised_false_all_kmers_false_small_model_6mer\"\n",
    "\n",
    "top_dirs = [_alt_can, _small_5mer, _small_6mer]\n",
    "top_dirs = [_small_5mer, _small_6mer, _alt_can]\n",
    "top_dirs = [_small_07]\n",
    "\n",
    "# top_dirs = [_30_rounds, _ivt_and_native, _alt_can, _unsup_alt_can]\n",
    "\n",
    "# top_dirs = [_unsup_90_no_ivt, _30_rounds]\n",
    "# round_n = [1, 30]\n",
    "round_n = [10, 10, 30]\n",
    "round_n = 30\n",
    "overwrite=True"
   ]
  },
  {
   "cell_type": "code",
   "execution_count": 4,
   "metadata": {},
   "outputs": [
    {
     "name": "stdout",
     "output_type": "stream",
     "text": [
      "Got final_data_frame: len=110\n",
      "Got plot_df: len=110\n",
      "Got mod_s3_urls: len=110\n"
     ]
    }
   ],
   "source": [
    "%matplotlib inline\n",
    "set_matplotlib_formats('svg')\n",
    "matplotlib.use('SVG')\n",
    "plt.rcParams['svg.fonttype'] = 'none'\n",
    "# savefig=\"/Users/andrewbailey/CLionProjects/rrna_analysis/figures/per_position_accuracy/per_position_accuracy.png\"\n",
    "# savefig=\"/Users/andrewbailey/CLionProjects/rrna_analysis/figures/per_position_accuracy/per_position_accuracy.svg\"\n",
    "savefig=None\n",
    "plot_acc_heatmap_for_experiment(top_dirs, \"accuracy\", kpm, savefig=savefig, max_percent=max_percent, min_percent=min_percent, min_delta=min_delta, max_delta=max_delta, round_n=round_n, show_numbers=True, client=client, overwrite=overwrite)\n"
   ]
  },
  {
   "cell_type": "code",
   "execution_count": null,
   "metadata": {},
   "outputs": [],
   "source": []
  }
 ],
 "metadata": {
  "kernelspec": {
   "display_name": "signalalign",
   "language": "python",
   "name": "signalalign"
  },
  "language_info": {
   "codemirror_mode": {
    "name": "ipython",
    "version": 3
   },
   "file_extension": ".py",
   "mimetype": "text/x-python",
   "name": "python",
   "nbconvert_exporter": "python",
   "pygments_lexer": "ipython3",
   "version": "3.6.7"
  }
 },
 "nbformat": 4,
 "nbformat_minor": 2
}
