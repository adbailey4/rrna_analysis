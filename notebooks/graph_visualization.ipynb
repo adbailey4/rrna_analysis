{
 "cells": [
  {
   "cell_type": "markdown",
   "metadata": {},
   "source": [
    "## Graph Representations Of Kmer Paths\n",
    "Would be nice to visualize some paths of kmers in HMM "
   ]
  },
  {
   "cell_type": "code",
   "execution_count": 1,
   "metadata": {},
   "outputs": [],
   "source": [
    "import os\n",
    "import numpy as np\n",
    "import pandas as pd\n",
    "from graphviz import Digraph\n",
    "\n",
    "from rrna_analysis.plot_experiment_table import plot_acc_heatmap_for_experiment\n",
    "from rrna_analysis.multiple_model_accuracy import plot_accuracy_vs_delta_and_accuracy_over_time, preprocess_accuracy_csv\n",
    "from rrna_analysis.kmer_pos_mapping import KmerPosMapping\n",
    "from rrna_analysis.kmer_pos_mapping import get_kmer_permutations"
   ]
  },
  {
   "cell_type": "code",
   "execution_count": 2,
   "metadata": {},
   "outputs": [],
   "source": [
    "mods_csv = \"/Users/andrewbailey/CLionProjects/rrna_analysis/reference/mod_files/mod_file.csv\"\n",
    "reference = \"/Users/andrewbailey/CLionProjects/rrna_analysis/reference/yeast_25S_18S.fa\"\n",
    "positions = \"/Users/andrewbailey/CLionProjects/rrna_analysis/reference/mod_files/yeast_18S_25S_variants.positions\"\n",
    "kpm = KmerPosMapping(reference, positions, mods_csv)"
   ]
  },
  {
   "cell_type": "code",
   "execution_count": 3,
   "metadata": {},
   "outputs": [],
   "source": [
    "output_dir = \"/Users/andrewbailey/CLionProjects/rrna_analysis/figures/graphs\" "
   ]
  },
  {
   "cell_type": "code",
   "execution_count": 8,
   "metadata": {},
   "outputs": [],
   "source": [
    "def plot_kmer_path_graph(contig, strand, start, end, kpm, test_path=None):\n",
    "    dot = Digraph(comment='Kmer Paths')\n",
    "    dot.attr(rankdir='LR', size='8,5')\n",
    "    canonical = set(\"ATGC\")\n",
    "    prev_nodes = {}\n",
    "    counter = 0\n",
    "    dotted = False\n",
    "    skip = False\n",
    "    for pos in range(start, end+1):\n",
    "        nodes = {}\n",
    "        kmers = kpm.get_reference_position_kmers(contig, strand, pos)\n",
    "        kmers = sorted(list(kmers))\n",
    "    #     if len(kmers) > 2:\n",
    "    #         dotted = True\n",
    "    #         skip = True\n",
    "    #     else:\n",
    "    #         if skip:\n",
    "    #             skip = False\n",
    "    #         else:\n",
    "    #             dotted = False\n",
    "        for kmer in kmers:\n",
    "            dot.node(str(counter), kmer[::-1])\n",
    "            nodes[str(counter)] = kmer[::-1]\n",
    "            counter += 1\n",
    "\n",
    "        n_allowed = np.log2(len(nodes))\n",
    "        n_allowed2 = np.log2(len(prev_nodes))\n",
    "        for prev_node, prev_kmer in prev_nodes.items():\n",
    "            for node, kmer in nodes.items():\n",
    "    #             print(prev_kmer, kmer)\n",
    "    #             print(f\"{kmer[:4]} == {prev_kmer[1:]}\")\n",
    "                if kmer[:4] == prev_kmer[1:]:\n",
    "                    n_mods = len([x for x in list(kmer) if x not in canonical])\n",
    "                    n_mods2 = len([x for x in list(prev_kmer) if x not in canonical])\n",
    "                    if not (n_mods == 0 or n_mods == n_allowed):\n",
    "                        dot.node(str(node), style=\"dotted\")\n",
    "                        print(\"next\", prev_kmer, kmer, n_mods, n_allowed)\n",
    "                        dot.edge(str(prev_node), str(node), style=\"dotted\")\n",
    "                    elif not (n_mods2 == 0 or n_mods2 == n_allowed2):\n",
    "                        dot.node(str(prev_node), style=\"dotted\")\n",
    "                        print(\"prev\", prev_kmer, kmer, n_mods2, n_allowed2)\n",
    "                        dot.edge(str(prev_node), str(node), style=\"dotted\")\n",
    "                    else:\n",
    "                        dot.edge(str(prev_node), str(node), style=\"bold\")\n",
    "\n",
    "        prev_nodes = nodes\n",
    "    if test_path is not None:\n",
    "        dot.format = 'svg'\n",
    "        dot.render(test_path, view=False)  \n",
    "    else:\n",
    "        dot.render(test_path, view=True)  \n"
   ]
  },
  {
   "cell_type": "code",
   "execution_count": 20,
   "metadata": {},
   "outputs": [
    {
     "name": "stdout",
     "output_type": "stream",
     "text": [
      "next TTGAC TGACg 1 2.0\n",
      "next TlGAC lGACT 1 2.0\n",
      "prev lGACT GACTC 1 2.0\n",
      "prev TGACg GACgC 1 2.0\n"
     ]
    },
    {
     "name": "stderr",
     "output_type": "stream",
     "text": [
      "/Users/andrewbailey/anaconda3/envs/signalalign/lib/python3.6/site-packages/ipykernel_launcher.py:27: RuntimeWarning: divide by zero encountered in log2\n"
     ]
    }
   ],
   "source": [
    "contig = \"RDN18-1\"\n",
    "strand = \"+\"\n",
    "\n",
    "start = 1181\n",
    "end = 1190\n",
    "\n",
    "# start = 1261\n",
    "# end = 1271\n",
    "\n",
    "# contig = \"RDN25-1\"\n",
    "# start = 639\n",
    "# end = 650\n",
    "# start = 205\n",
    "# end = 211\n",
    "# test_path = os.path.join(output_dir, f\"{start}_{end}_depletion\")\n",
    "test_path = None\n",
    "\n",
    "plot_kmer_path_graph(contig, strand, start, end, kpm=kpm, test_path=test_path)\n"
   ]
  },
  {
   "cell_type": "code",
   "execution_count": 20,
   "metadata": {},
   "outputs": [],
   "source": [
    "dot = Digraph(comment='Kmer Paths')\n",
    "dot.attr(rankdir='LR', size='8,5')\n",
    "dot.node(\"A\", \"A\", style=\"dotted\")"
   ]
  },
  {
   "cell_type": "code",
   "execution_count": 25,
   "metadata": {},
   "outputs": [],
   "source": [
    "dot.node(\"A\", style=\"bold\")"
   ]
  },
  {
   "cell_type": "code",
   "execution_count": 26,
   "metadata": {},
   "outputs": [
    {
     "data": {
      "image/svg+xml": [
       "<?xml version=\"1.0\" encoding=\"UTF-8\" standalone=\"no\"?>\n",
       "<!DOCTYPE svg PUBLIC \"-//W3C//DTD SVG 1.1//EN\"\n",
       " \"http://www.w3.org/Graphics/SVG/1.1/DTD/svg11.dtd\">\n",
       "<!-- Generated by graphviz version 2.40.1 (20161225.0304)\n",
       " -->\n",
       "<!-- Title: %3 Pages: 1 -->\n",
       "<svg width=\"62pt\" height=\"44pt\"\n",
       " viewBox=\"0.00 0.00 62.00 44.00\" xmlns=\"http://www.w3.org/2000/svg\" xmlns:xlink=\"http://www.w3.org/1999/xlink\">\n",
       "<g id=\"graph0\" class=\"graph\" transform=\"scale(1 1) rotate(0) translate(4 40)\">\n",
       "<title>%3</title>\n",
       "<polygon fill=\"#ffffff\" stroke=\"transparent\" points=\"-4,4 -4,-40 58,-40 58,4 -4,4\"/>\n",
       "<!-- A -->\n",
       "<g id=\"node1\" class=\"node\">\n",
       "<title>A</title>\n",
       "<ellipse fill=\"none\" stroke=\"#000000\" stroke-width=\"2\" cx=\"27\" cy=\"-18\" rx=\"27\" ry=\"18\"/>\n",
       "<text text-anchor=\"middle\" x=\"27\" y=\"-13.8\" font-family=\"Times,serif\" font-size=\"14.00\" fill=\"#000000\">A</text>\n",
       "</g>\n",
       "</g>\n",
       "</svg>\n"
      ],
      "text/plain": [
       "<graphviz.dot.Digraph at 0x1a2016a978>"
      ]
     },
     "execution_count": 26,
     "metadata": {},
     "output_type": "execute_result"
    }
   ],
   "source": [
    "dot"
   ]
  },
  {
   "cell_type": "code",
   "execution_count": null,
   "metadata": {},
   "outputs": [],
   "source": []
  }
 ],
 "metadata": {
  "kernelspec": {
   "display_name": "signalalign",
   "language": "python",
   "name": "signalalign"
  },
  "language_info": {
   "codemirror_mode": {
    "name": "ipython",
    "version": 3
   },
   "file_extension": ".py",
   "mimetype": "text/x-python",
   "name": "python",
   "nbconvert_exporter": "python",
   "pygments_lexer": "ipython3",
   "version": "3.6.7"
  }
 },
 "nbformat": 4,
 "nbformat_minor": 2
}
