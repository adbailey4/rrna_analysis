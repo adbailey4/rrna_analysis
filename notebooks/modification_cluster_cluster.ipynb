{
 "cells": [
  {
   "cell_type": "markdown",
   "metadata": {},
   "source": [
    "## Cluster Cluster\n",
    "See if we can cluster clusters of modifications so we can may be able to see paterns of modification profiles within regions we cannot resolve well"
   ]
  },
  {
   "cell_type": "code",
   "execution_count": 6,
   "metadata": {},
   "outputs": [],
   "source": [
    "# matplotlib library\n",
    "import matplotlib.pyplot as plt\n",
    "import matplotlib.ticker as ticker\n",
    "from mpl_toolkits.mplot3d import Axes3D\n",
    "# py3helpers\n",
    "from py3helpers.classification import ClassificationMetrics\n",
    "from py3helpers.utils import merge_lists, list_dir\n",
    "from py3helpers.seq_tools import ReferenceHandler\n",
    "\n",
    "# Other common libraries\n",
    "import pandas as pd\n",
    "from sklearn.utils import assert_all_finite\n",
    "from scipy import signal\n",
    "from sklearn.linear_model import LinearRegression\n",
    "from sklearn.metrics import auc\n",
    "\n",
    "import numpy as np\n",
    "# built in library\n",
    "import os\n"
   ]
  },
  {
   "cell_type": "code",
   "execution_count": 9,
   "metadata": {},
   "outputs": [],
   "source": [
    "from signalalign.fast5 import Fast5"
   ]
  },
  {
   "cell_type": "code",
   "execution_count": 8,
   "metadata": {},
   "outputs": [],
   "source": [
    "ivt_25_path = \"/Users/andrewbailey/CLionProjects/rrna_analysis/notebooks/rrna_data/rrna_kube_testing/tombo_embedded/IVT/ivt_25S_full_length\"\n",
    "ivt_25s = list_dir(ivt_25_path)"
   ]
  },
  {
   "cell_type": "code",
   "execution_count": 11,
   "metadata": {},
   "outputs": [],
   "source": [
    "test = Fast5(ivt_25s[0])"
   ]
  },
  {
   "cell_type": "code",
   "execution_count": 12,
   "metadata": {},
   "outputs": [
    {
     "data": {
      "text/plain": [
       "(array([( 1.72191561, nan,      0,  6, b'G'),\n",
       "        (-1.31185073, nan,      6, 16, b'A'),\n",
       "        (-2.02008101, nan,     22, 16, b'C'), ...,\n",
       "        (-1.00608247, nan, 120372,  6, b'A'),\n",
       "        (-0.9972746 , nan, 120378, 64, b'T'),\n",
       "        (-0.80035109, nan, 120442, 24, b'T')],\n",
       "       dtype=[('norm_mean', '<f8'), ('norm_stdev', '<f8'), ('start', '<u4'), ('length', '<u4'), ('base', 'S1')]),\n",
       " 108)"
      ]
     },
     "execution_count": 12,
     "metadata": {},
     "output_type": "execute_result"
    }
   ],
   "source": [
    "test.get_corrected_events()"
   ]
  },
  {
   "cell_type": "code",
   "execution_count": null,
   "metadata": {},
   "outputs": [],
   "source": []
  }
 ],
 "metadata": {
  "kernelspec": {
   "display_name": "signalalign",
   "language": "python",
   "name": "signalalign"
  },
  "language_info": {
   "codemirror_mode": {
    "name": "ipython",
    "version": 3
   },
   "file_extension": ".py",
   "mimetype": "text/x-python",
   "name": "python",
   "nbconvert_exporter": "python",
   "pygments_lexer": "ipython3",
   "version": "3.6.7"
  }
 },
 "nbformat": 4,
 "nbformat_minor": 5
}
