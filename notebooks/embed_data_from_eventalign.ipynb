{
 "cells": [
  {
   "cell_type": "markdown",
   "metadata": {},
   "source": [
    "### Embed data from eventalign for plotting\n",
    "Check to see if alignments from eventalign match signalalign"
   ]
  },
  {
   "cell_type": "code",
   "execution_count": 33,
   "metadata": {},
   "outputs": [],
   "source": [
    "import os\n",
    "import pandas as pd\n",
    "import numpy as np\n",
    "from signalalign.fast5 import Fast5\n"
   ]
  },
  {
   "cell_type": "code",
   "execution_count": 56,
   "metadata": {},
   "outputs": [
    {
     "name": "stdout",
     "output_type": "stream",
     "text": [
      "['/Users/andrewbailey/CLionProjects/personal/projects/ares_rRNA/small_local_sample/nanopolish/cbfgal_eventalign.tsv', '/Users/andrewbailey/CLionProjects/personal/projects/ares_rRNA/small_local_sample/nanopolish/cbfglu_eventalign.tsv', '/Users/andrewbailey/CLionProjects/personal/projects/ares_rRNA/small_local_sample/nanopolish/ivt_eventalign.tsv', '/Users/andrewbailey/CLionProjects/personal/projects/ares_rRNA/small_local_sample/nanopolish/nopgal_eventalign.tsv', '/Users/andrewbailey/CLionProjects/personal/projects/ares_rRNA/small_local_sample/nanopolish/nopglu_eventalign.tsv']\n",
      "['/Users/andrewbailey/CLionProjects/personal/projects/ares_rRNA/small_local_sample/fastq_nanopolish/cbfgal.fastq.index.readdb', '/Users/andrewbailey/CLionProjects/personal/projects/ares_rRNA/small_local_sample/fastq_nanopolish/cbfglu.fastq.index.readdb', '/Users/andrewbailey/CLionProjects/personal/projects/ares_rRNA/small_local_sample/fastq_nanopolish/ivt.fastq.index.readdb', '/Users/andrewbailey/CLionProjects/personal/projects/ares_rRNA/small_local_sample/fastq_nanopolish/nopgal.fastq.index.readdb', '/Users/andrewbailey/CLionProjects/personal/projects/ares_rRNA/small_local_sample/fastq_nanopolish/nopglu.fastq.index.readdb']\n"
     ]
    }
   ],
   "source": [
    "nanopolish_data_dir = \"/Users/andrewbailey/CLionProjects/personal/projects/ares_rRNA/small_local_sample/nanopolish\"\n",
    "nanopolish_readdb_dir = \"/Users/andrewbailey/CLionProjects/personal/projects/ares_rRNA/small_local_sample/fastq_nanopolish\"\n",
    "\n",
    "key_names = [\"cbfgal\",\"cbfglu\",\"ivt\",\"nopgal\",\"nopglu\"]\n",
    "nanopolish_data_paths = [os.path.join(nanopolish_data_dir, name)+\"_eventalign.tsv\" for name in key_names]\n",
    "readdb_paths = [os.path.join(nanopolish_readdb_dir, name)+\".fastq.index.readdb\" for name in key_names]\n",
    "\n",
    "print(nanopolish_data_paths)\n",
    "print(readdb_paths)"
   ]
  },
  {
   "cell_type": "code",
   "execution_count": 57,
   "metadata": {},
   "outputs": [],
   "source": [
    "def get_fast5_paths(read_db_path):\n",
    "    fast5_files = []\n",
    "    with open(read_db_path, 'r') as fofn:\n",
    "        for line in fofn:\n",
    "            fast5_files.append(line.split('\\t')[1][:-1])\n",
    "    return fast5_files\n"
   ]
  },
  {
   "cell_type": "code",
   "execution_count": 58,
   "metadata": {},
   "outputs": [],
   "source": [
    "nanopolish_data = [pd.read_csv(x, sep=\"\\t\") for x in nanopolish_data_paths]\n",
    "nanopolish_f5_paths = [get_fast5_paths(x) for x in readdb_paths]\n"
   ]
  },
  {
   "cell_type": "code",
   "execution_count": 70,
   "metadata": {},
   "outputs": [],
   "source": [
    "dtype = [('contig', 'S10'), \n",
    "        ('position', int),\n",
    "        ('reference_kmer', 'S6'), \n",
    "        ('read_name', \"S50\"),\n",
    "        ('strand', 'S1'), \n",
    "        ('event_index', int),\n",
    "        ('event_level_mean', float), \n",
    "        ('event_stdv', float),\n",
    "        ('event_length', float), \n",
    "        ('model_kmer', 'S6'),\n",
    "        ('model_mean', float), \n",
    "        ('model_stdv', float),\n",
    "        ('standardized_level', float),\n",
    "        ('start_idx', int),\n",
    "        ('end_idx', int)]\n",
    "dtype_dict = {'contig': 'S10', \n",
    "                'position': int,\n",
    "                'reference_kmer': 'S6',\n",
    "                'read_name': 'S50',\n",
    "                'strand': 'S1', \n",
    "                'event_index': int,\n",
    "                'event_level_mean': float,\n",
    "                'event_stdv': float,\n",
    "                'event_length': float,\n",
    "                'model_kmer': 'S6',\n",
    "                'model_mean': float,\n",
    "                'model_stdv': float,\n",
    "                'standardized_level': float,\n",
    "                'start_idx': int,\n",
    "                'end_idx': int}\n",
    "\n",
    "for data, f5_paths in zip(nanopolish_data, nanopolish_f5_paths):\n",
    "    for index, y in data.groupby([\"read_name\"]):\n",
    "        read_id = index.split(\":\")[0]\n",
    "        template = None\n",
    "        complement = None\n",
    "        for strand, data  in y.groupby(\"strand\"):\n",
    "            if strand == \"t\":\n",
    "                template = data.to_records(index=False, column_dtypes=dtype_dict)\n",
    "            else:\n",
    "                complement = data.to_records(index=False, column_dtypes=dtype_dict)\n",
    "        fast5_file = [x for x in f5_paths if read_id in x][0]\n",
    "        handle = Fast5(fast5_file, read='r+')\n",
    "        handle.set_eventalign_table(template=template, complement=complement, meta=None, overwrite=True)\n",
    "        handle.close()\n",
    "        "
   ]
  },
  {
   "cell_type": "code",
   "execution_count": 69,
   "metadata": {},
   "outputs": [
    {
     "data": {
      "text/plain": [
       "['/Users/andrewbailey/CLionProjects/personal/projects/ares_rRNA/small_local_sample/fast5/cbfgal/read_4eea606b-07bf-4ef5-858e-ef932ff03e56.fast5']"
      ]
     },
     "execution_count": 69,
     "metadata": {},
     "output_type": "execute_result"
    }
   ],
   "source": []
  },
  {
   "cell_type": "code",
   "execution_count": null,
   "metadata": {},
   "outputs": [],
   "source": []
  }
 ],
 "metadata": {
  "kernelspec": {
   "display_name": "signalalign",
   "language": "python",
   "name": "signalalign"
  },
  "language_info": {
   "codemirror_mode": {
    "name": "ipython",
    "version": 3
   },
   "file_extension": ".py",
   "mimetype": "text/x-python",
   "name": "python",
   "nbconvert_exporter": "python",
   "pygments_lexer": "ipython3",
   "version": "3.6.7"
  }
 },
 "nbformat": 4,
 "nbformat_minor": 2
}
