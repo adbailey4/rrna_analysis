{
 "cells": [
  {
   "cell_type": "code",
   "execution_count": 22,
   "metadata": {},
   "outputs": [],
   "source": [
    "import os\n",
    "import numpy as np\n",
    "from py3helpers.aws import AwsS3\n",
    "from rrna_analysis.plot_experiment_table import plot_acc_heatmap_for_experiment\n",
    "from rrna_analysis.multiple_model_accuracy import plot_accuracy_vs_delta_and_accuracy_over_time, preprocess_accuracy_csv\n",
    "from rrna_analysis.kmer_pos_mapping import KmerPosMapping\n",
    "import pandas as pd\n",
    "from scipy.stats import norm, entropy\n",
    "import matplotlib.pyplot as plt\n",
    "from itertools import combinations\n",
    "import matplotlib\n"
   ]
  },
  {
   "cell_type": "code",
   "execution_count": 6,
   "metadata": {},
   "outputs": [],
   "source": [
    "pd.set_option('display.max_rows', None)\n",
    "pd.set_option('display.max_columns', None)"
   ]
  },
  {
   "cell_type": "code",
   "execution_count": 7,
   "metadata": {},
   "outputs": [],
   "source": [
    "mods_csv = \"/Users/andrewbailey/CLionProjects/rrna_analysis/reference/mod_files/mod_file.csv\"\n",
    "reference = \"/Users/andrewbailey/CLionProjects/rrna_analysis/reference/yeast_25S_18S.fa\"\n",
    "alt_c_positions = \"/Users/andrewbailey/CLionProjects/rrna_analysis/reference/alt_canonical_distribution/yeast_18S_25S_variants.positions\"\n",
    "# positions = \"/Users/andrewbailey/CLionProjects/rrna_analysis/reference/mod_files/yeast_18S_25S_variants.positions\"\n",
    "kpm = KmerPosMapping(reference, alt_c_positions, mods_csv)\n"
   ]
  },
  {
   "cell_type": "code",
   "execution_count": 16,
   "metadata": {},
   "outputs": [],
   "source": [
    "def plot_recall_vs_fraction(experiments, experiment_names, round_n, kmer_pos_mapping, figure_path=None, threshold=0.3):\n",
    "    f, panel1 = plt.subplots(figsize=(10, 10))\n",
    "    panel1.set_title(f'Recall vs Annotated Frequency Modified')\n",
    "    panel1.set_xlabel(f\"Fraction modified\")\n",
    "    panel1.set_ylabel(\"Recall\")\n",
    "    linspace = np.linspace(.5,1,100)\n",
    "    legends = []\n",
    "    for experiment, name in zip(experiments, experiment_names):\n",
    "        df = preprocess_accuracy_csv(os.path.join(experiment, f\"training_accuracy_csvs/{round_n}_per_position_data_0.5.csv\"), kmer_pos_mapping.subset_mod_data)\n",
    "        if df.isnull().values.any():\n",
    "            print(f\"Warning, {name} has missing values\")\n",
    "            df = df.dropna()\n",
    "        ax = panel1.scatter(df[\"fraction\"], df[\"recall\"], label=name)\n",
    "        legends.append(ax)\n",
    "        text_df = df[np.abs(df[\"recall-frac\"]) > threshold]\n",
    "        for i, x in text_df.iterrows():\n",
    "            panel1.text(x.fraction, x.recall, f\"{x.contig} {x.reference_index}\")\n",
    "        m, b = np.polyfit(df[\"fraction\"], df[\"recall\"], 1)\n",
    "#         ax, = panel1.plot(linspace, m * linspace + b,\n",
    "#                     label=f\"{name}: slope={round(m, 4)} \\n intercept={round(b, 4)}\")\n",
    "#         legends.append(ax)\n",
    "\n",
    "    ax, = panel1.plot(linspace, linspace, '-r', linewidth=5, label='Perfect Match')\n",
    "    legends.append(ax)\n",
    "\n",
    "    panel1.legend(handles=legends, loc=\"upper left\")\n",
    "    if figure_path is not None:\n",
    "#         assert not os.path.exists(figure_path), \"Save fig path does exist: {}\".format(figure_path)\n",
    "        plt.savefig(figure_path)\n",
    "    else:\n",
    "        plt.show()\n",
    "\n"
   ]
  },
  {
   "cell_type": "code",
   "execution_count": 17,
   "metadata": {},
   "outputs": [],
   "source": [
    "\n",
    "_ivt_and_native=\"/Users/andrewbailey/CLionProjects/rrna_analysis/notebooks/rrna_data/rrna_kube_testing/supervised/ivt_and_native_training/train_500_test_500_prob_0.5_em_iterations_30_all_kmers_ivt_and_native_training\"\n",
    "_30_rounds=\"/Users/andrewbailey/CLionProjects/rrna_analysis/notebooks/rrna_data/rrna_kube_testing/supervised/gaussian_distribution_testing/train_500_test_500_prob_0.5_em_iterations_30_USE_MEDIAN_false_MIN_SD_0\"\n",
    "_native_all_kmers=\"/Users/andrewbailey/CLionProjects/rrna_analysis/notebooks/rrna_data/rrna_kube_testing/supervised/only_covered_kmers_training/train_500_test_500_prob_0.5_em_iterations_30_all_kmers\"\n",
    "_unsup_60=\"/Users/andrewbailey/CLionProjects/rrna_analysis/notebooks/rrna_data/rrna_kube_testing/unsupervised/fraction_sweep/train_500_test_500_prob_0.5_em_iterations_30_gaussian_true_FREQ_THRESHOLD_60_USE_IVT_TRAINING_true_unsupervised_true_all_kmers_true\"\n",
    "_unsup_70=\"/Users/andrewbailey/CLionProjects/rrna_analysis/notebooks/rrna_data/rrna_kube_testing/unsupervised/fraction_sweep/train_500_test_500_prob_0.5_em_iterations_30_gaussian_true_FREQ_THRESHOLD_70_USE_IVT_TRAINING_true_unsupervised_true_all_kmers_true\"\n",
    "_unsup_80=\"/Users/andrewbailey/CLionProjects/rrna_analysis/notebooks/rrna_data/rrna_kube_testing/unsupervised/fraction_sweep/train_500_test_500_prob_0.5_em_iterations_30_gaussian_true_FREQ_THRESHOLD_80_USE_IVT_TRAINING_true_unsupervised_true_all_kmers_true\"\n",
    "_unsup_90=\"/Users/andrewbailey/CLionProjects/rrna_analysis/notebooks/rrna_data/rrna_kube_testing/unsupervised/fraction_sweep/train_500_test_500_prob_0.5_em_iterations_30_gaussian_true_FREQ_THRESHOLD_90_USE_IVT_TRAINING_true_unsupervised_true_all_kmers_true\"\n",
    "_unsup_90_no_ivt=\"/Users/andrewbailey/CLionProjects/rrna_analysis/notebooks/rrna_data/rrna_kube_testing/unsupervised/fraction_sweep/train_500_test_500_prob_0.5_em_iterations_30_gaussian_true_FREQ_THRESHOLD_90_USE_IVT_TRAINING_true_unsupervised_true_all_kmers_false\"\n",
    "_unsup_alt_can_90=\"/Users/andrewbailey/CLionProjects/rrna_analysis/notebooks/rrna_data/rrna_kube_testing/alt_canonical/gaussian/train_500_test_500_prob_0.5_em_iterations_30_gaussian_true_FREQ_THRESHOLD_90_USE_IVT_TRAINING_true_unsupervised_true_all_kmers_false\"\n",
    "_alt_can=\"/Users/andrewbailey/CLionProjects/rrna_analysis/notebooks/rrna_data/rrna_kube_testing/alt_canonical/gaussian/train_500_test_500_prob_0.5_em_iterations_30_gaussian_true_FREQ_THRESHOLD_0_USE_IVT_TRAINING_true_unsupervised_false_all_kmers_false\"\n",
    "_alt_can_80=\"/Users/andrewbailey/CLionProjects/rrna_analysis/notebooks/rrna_data/rrna_kube_testing/alt_canonical/gaussian/train_500_test_500_prob_0.80_em_iterations_30_gaussian_true_FREQ_THRESHOLD_0_USE_IVT_TRAINING_true_unsupervised_false_all_kmers_false_alt_c_6mer\"\n",
    "# round 5 from alt_c used for continuing training\n",
    "_unsup_alt_can_80=\"/Users/andrewbailey/CLionProjects/rrna_analysis/notebooks/rrna_data/rrna_kube_testing/alt_canonical/gaussian/train_500_test_500_prob_0.80_em_iterations_30_gaussian_true_FREQ_THRESHOLD_90_USE_IVT_TRAINING_true_unsupervised_true_all_kmers_false_alt_c_6mer\"\n",
    "_median_30 = \"/Users/andrewbailey/CLionProjects/rrna_analysis/notebooks/rrna_data/rrna_kube_testing/supervised/gaussian_distribution_testing/train_500_test_500_prob_0.5_em_iterations_30_USE_MEDIAN_true_MIN_SD_0/\"\n",
    "_mrna_trained_30 = \"/Users/andrewbailey/CLionProjects/rrna_analysis/notebooks/rrna_data/rrna_kube_testing/trained_mRNA_model/standard/train_500_test_500_prob_0.5_em_iterations_30_gaussian_true_FREQ_THRESHOLD_0_USE_IVT_TRAINING_false_unsupervised_false_all_kmers_false\"\n",
    "_alt_can_60 = \"/Users/andrewbailey/CLionProjects/rrna_analysis/notebooks/rrna_data/rrna_kube_testing/alt_canonical/gaussian_60/train_500_test_500_prob_0.5_em_iterations_30_gaussian_true_FREQ_THRESHOLD_0_USE_IVT_TRAINING_true_unsupervised_false_all_kmers_false_alt_c_6mer\"\n",
    "_alt_can_all_k = \"/Users/andrewbailey/CLionProjects/rrna_analysis/notebooks/rrna_data/rrna_kube_testing/alt_canonical/gaussian/train_500_test_500_prob_0.5_em_iterations_30_gaussian_true_FREQ_THRESHOLD_0_USE_IVT_TRAINING_true_unsupervised_false_all_kmers_true_alt_c_6mer\"\n",
    "_small_09 = \"/Users/andrewbailey/CLionProjects/rrna_analysis/notebooks/rrna_data/rrna_kube_testing/small_5mer/test/train_500_test_500_prob_0.9_em_iterations_30_gaussian_true_FREQ_THRESHOLD_0_USE_IVT_TRAINING_true_unsupervised_false_all_kmers_false_small_model_5mer\"\n",
    "_small_08 = \"/Users/andrewbailey/CLionProjects/rrna_analysis/notebooks/rrna_data/rrna_kube_testing/small_5mer/test/train_500_test_500_prob_0.8_em_iterations_30_gaussian_true_FREQ_THRESHOLD_0_USE_IVT_TRAINING_true_unsupervised_false_all_kmers_false_small_model_5mer\"\n",
    "_small_07 = \"/Users/andrewbailey/CLionProjects/rrna_analysis/notebooks/rrna_data/rrna_kube_testing/small_5mer/test/train_500_test_500_prob_0.7_em_iterations_30_gaussian_true_FREQ_THRESHOLD_0_USE_IVT_TRAINING_true_unsupervised_false_all_kmers_false_small_model_5mer\"\n",
    "_small_06 = \"/Users/andrewbailey/CLionProjects/rrna_analysis/notebooks/rrna_data/rrna_kube_testing/small_5mer/test/train_500_test_500_prob_0.6_em_iterations_30_gaussian_true_FREQ_THRESHOLD_0_USE_IVT_TRAINING_true_unsupervised_false_all_kmers_false_small_model_5mer\"\n",
    "_small_05 = \"/Users/andrewbailey/CLionProjects/rrna_analysis/notebooks/rrna_data/rrna_kube_testing/small_5mer/test/train_500_test_500_prob_0.5_em_iterations_30_gaussian_true_FREQ_THRESHOLD_0_USE_IVT_TRAINING_true_unsupervised_false_all_kmers_false_small_model_5mer\"\n",
    "\n",
    "_median_small_07 = \"/Users/andrewbailey/CLionProjects/rrna_analysis/notebooks/rrna_data/rrna_kube_testing/small_5mer/test/train_500_test_500_prob_0.7_em_iterations_30_gaussian_true_FREQ_THRESHOLD_0_USE_IVT_TRAINING_true_unsupervised_false_all_kmers_false_small_model_5mer_use_median_true\"\n"
   ]
  },
  {
   "cell_type": "code",
   "execution_count": 20,
   "metadata": {},
   "outputs": [],
   "source": [
    "figure_path = \"/Users/andrewbailey/CLionProjects/rrna_analysis/figures/recall_vs_fraction_modified/recall_vs_fraction_median_small_07.svg\"       \n",
    "# figure_path = None\n",
    "round_n = 30\n",
    "# experiments = [_alt_can, _small_09, _small_07, _small_06, _small_05, _median_small_07]\n",
    "# experiment_names = [\"alt_can\", \"_small_09\", \"_small_07\", \"_small_06\", \"_small_05\", \"_median_small_07\"]\n",
    "experiments = [_median_small_07]\n",
    "experiment_names = [\"_median_small_07\"]\n"
   ]
  },
  {
   "cell_type": "code",
   "execution_count": 23,
   "metadata": {},
   "outputs": [
    {
     "name": "stdout",
     "output_type": "stream",
     "text": [
      "Warning, _median_small_07 has missing values\n"
     ]
    },
    {
     "name": "stderr",
     "output_type": "stream",
     "text": [
      "/Users/andrewbailey/anaconda3/envs/signalalign/lib/python3.6/site-packages/ipykernel_launcher.py:26: UserWarning: The handle <matplotlib.collections.PathCollection object at 0x1a268f3e48> has a label of '_median_small_07' which cannot be automatically added to the legend.\n"
     ]
    }
   ],
   "source": [
    "%matplotlib notebook\n",
    "matplotlib.use('SVG')\n",
    "plt.rcParams['svg.fonttype'] = 'none'\n",
    "\n",
    "plot_recall_vs_fraction(experiments, experiment_names, round_n, kpm, figure_path=figure_path)\n"
   ]
  },
  {
   "cell_type": "code",
   "execution_count": null,
   "metadata": {},
   "outputs": [],
   "source": []
  },
  {
   "cell_type": "code",
   "execution_count": null,
   "metadata": {},
   "outputs": [],
   "source": []
  }
 ],
 "metadata": {
  "kernelspec": {
   "display_name": "signalalign",
   "language": "python",
   "name": "signalalign"
  },
  "language_info": {
   "codemirror_mode": {
    "name": "ipython",
    "version": 3
   },
   "file_extension": ".py",
   "mimetype": "text/x-python",
   "name": "python",
   "nbconvert_exporter": "python",
   "pygments_lexer": "ipython3",
   "version": "3.6.7"
  }
 },
 "nbformat": 4,
 "nbformat_minor": 2
}
